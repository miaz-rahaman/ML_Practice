{
 "cells": [
  {
   "cell_type": "code",
   "execution_count": 10,
   "id": "4a626c63-a721-42ef-8b4c-a5445fbbc74a",
   "metadata": {},
   "outputs": [],
   "source": [
    "def new(a,b=5):# here a is postional argument and b is key word argument as b is using key value pairs i.e b is the key and 5 is the value\n",
    "    return 'The name is {} and the age is {}'.format(a,b)"
   ]
  },
  {
   "cell_type": "code",
   "execution_count": 6,
   "id": "fa7adf62-1891-445a-9bd5-8223684872e2",
   "metadata": {},
   "outputs": [
    {
     "data": {
      "text/plain": [
       "'The name is Rahaman and the age is 25'"
      ]
     },
     "execution_count": 6,
     "metadata": {},
     "output_type": "execute_result"
    }
   ],
   "source": [
    "new('Rahaman',25) "
   ]
  },
  {
   "cell_type": "code",
   "execution_count": 7,
   "id": "1e569fc3-cb75-4497-966c-a00fbe09d04f",
   "metadata": {},
   "outputs": [],
   "source": [
    "#we can also use positional and keyword arguments as follows \n",
    "def new_id(*args,**kwargs):\n",
    "    print(args)\n",
    "    print(kwargs)"
   ]
  },
  {
   "cell_type": "code",
   "execution_count": 9,
   "id": "7e5e9710-7c62-4482-a05e-b1ee38eb6d05",
   "metadata": {},
   "outputs": [
    {
     "name": "stdout",
     "output_type": "stream",
     "text": [
      "('Miazur', 'Rahaman', 'Mohammad')\n",
      "{'Age': 22, 'DOB': 31072003, 'phone': 7981291921}\n"
     ]
    }
   ],
   "source": [
    "new_id('Miazur','Rahaman','Mohammad',Age=22,DOB=31072003,phone=7981291921)"
   ]
  },
  {
   "cell_type": "markdown",
   "id": "28847c7b-dc17-412b-8e96-bd938bfbe545",
   "metadata": {},
   "source": [
    "# Lambda Function\n",
    "\n",
    "also called as anonymous function / function with no name \n",
    "\n",
    "## only possible if have a single expression"
   ]
  },
  {
   "cell_type": "code",
   "execution_count": 11,
   "id": "809f705d-d918-491f-a180-21daaf4d7b92",
   "metadata": {},
   "outputs": [],
   "source": [
    "eve = lambda a : a%2==0"
   ]
  },
  {
   "cell_type": "code",
   "execution_count": 12,
   "id": "0db37000-50b0-4722-b3cb-e838aee0a165",
   "metadata": {},
   "outputs": [
    {
     "data": {
      "text/plain": [
       "False"
      ]
     },
     "execution_count": 12,
     "metadata": {},
     "output_type": "execute_result"
    }
   ],
   "source": [
    "eve(33)"
   ]
  },
  {
   "cell_type": "code",
   "execution_count": 13,
   "id": "2b764267-c4cd-4a88-8af9-352a3abe05bd",
   "metadata": {},
   "outputs": [],
   "source": [
    "add = lambda a,b,c : a+b+c"
   ]
  },
  {
   "cell_type": "code",
   "execution_count": 14,
   "id": "29f51954-fb71-40c7-b67e-2eae44dde150",
   "metadata": {},
   "outputs": [
    {
     "data": {
      "text/plain": [
       "38"
      ]
     },
     "execution_count": 14,
     "metadata": {},
     "output_type": "execute_result"
    }
   ],
   "source": [
    "add(12,11,15)"
   ]
  },
  {
   "cell_type": "code",
   "execution_count": 15,
   "id": "e805a37b-7a49-4896-859d-710bdaa57fd4",
   "metadata": {},
   "outputs": [],
   "source": [
    "# after map we are now using filter \n",
    "# let us see the diff btw map and filter\n",
    "def ev(num):\n",
    "    if num%2==0:\n",
    "        return True"
   ]
  },
  {
   "cell_type": "code",
   "execution_count": 16,
   "id": "1c69c4bc-c176-4d0e-b38c-2644b51fbd35",
   "metadata": {},
   "outputs": [],
   "source": [
    "lst = [ 1,3,34,46,6,7,4]"
   ]
  },
  {
   "cell_type": "code",
   "execution_count": 19,
   "id": "1ef0e81d-52bc-4037-b488-48327583a705",
   "metadata": {},
   "outputs": [
    {
     "data": {
      "text/plain": [
       "[34, 46, 6, 4]"
      ]
     },
     "execution_count": 19,
     "metadata": {},
     "output_type": "execute_result"
    }
   ],
   "source": [
    "list(filter(ev,lst)) # filter return the num value if only true"
   ]
  },
  {
   "cell_type": "code",
   "execution_count": 20,
   "id": "67594ffd-9b03-4291-8806-608e7fa630ba",
   "metadata": {},
   "outputs": [
    {
     "data": {
      "text/plain": [
       "[None, None, True, True, True, None, True]"
      ]
     },
     "execution_count": 20,
     "metadata": {},
     "output_type": "execute_result"
    }
   ],
   "source": [
    "list(map(ev,lst)) # map is returning the return statements for every element"
   ]
  },
  {
   "cell_type": "code",
   "execution_count": 21,
   "id": "9db2474b-50e7-43e9-909f-7601e53a43f4",
   "metadata": {},
   "outputs": [
    {
     "data": {
      "text/plain": [
       "[34, 46, 6, 4]"
      ]
     },
     "execution_count": 21,
     "metadata": {},
     "output_type": "execute_result"
    }
   ],
   "source": [
    "list(filter(lambda num:num%2==0,lst))"
   ]
  },
  {
   "cell_type": "code",
   "execution_count": 23,
   "id": "bd587d2a-d4fb-43b0-9370-8aa34b1fdaf4",
   "metadata": {},
   "outputs": [],
   "source": [
    "# list comprehension\n",
    "lst1=[]\n",
    "def lst_sq(lst):\n",
    "    for i in lst:\n",
    "        lst1.append(i*i)\n",
    "    return lst1"
   ]
  },
  {
   "cell_type": "code",
   "execution_count": 24,
   "id": "cfc26bd1-4247-4973-8f12-22a5bd236533",
   "metadata": {},
   "outputs": [
    {
     "data": {
      "text/plain": [
       "[1, 16, 36, 16, 4, 9]"
      ]
     },
     "execution_count": 24,
     "metadata": {},
     "output_type": "execute_result"
    }
   ],
   "source": [
    "lst_sq([1,4,6,4,2,3])"
   ]
  },
  {
   "cell_type": "code",
   "execution_count": 25,
   "id": "5f036399-5fd0-49ae-933f-850cee502e42",
   "metadata": {},
   "outputs": [],
   "source": [
    "ln=[1,4,6,4,2,3]"
   ]
  },
  {
   "cell_type": "code",
   "execution_count": 27,
   "id": "b816d323-9999-423a-bd36-46e9aeabc49f",
   "metadata": {},
   "outputs": [
    {
     "data": {
      "text/plain": [
       "[16, 36, 16, 4]"
      ]
     },
     "execution_count": 27,
     "metadata": {},
     "output_type": "execute_result"
    }
   ],
   "source": [
    "[i*i for i in ln if i%2==0]  #this is list comprehension"
   ]
  },
  {
   "cell_type": "markdown",
   "id": "4577fd73-72fd-49d7-99bc-7df71254bc50",
   "metadata": {},
   "source": [
    "# Iteration and Iteraor"
   ]
  },
  {
   "cell_type": "code",
   "execution_count": 28,
   "id": "1bc67021-d20f-472d-9f76-e4f934568144",
   "metadata": {},
   "outputs": [
    {
     "name": "stdout",
     "output_type": "stream",
     "text": [
      "1\n",
      "2\n",
      "3\n",
      "4\n",
      "5\n"
     ]
    }
   ],
   "source": [
    "lst=[1,2,3,4,5] # this is iteration and here the system will take the whole value list \n",
    "for i in lst:\n",
    "    print(i) "
   ]
  },
  {
   "cell_type": "code",
   "execution_count": 43,
   "id": "c1e7f660-fbde-4f05-8fa9-1d52996a4b6c",
   "metadata": {},
   "outputs": [],
   "source": [
    "ls=iter(lst)"
   ]
  },
  {
   "cell_type": "code",
   "execution_count": 44,
   "id": "163c7d0d-94ab-41d8-8f75-f50393091f82",
   "metadata": {},
   "outputs": [
    {
     "data": {
      "text/plain": [
       "1"
      ]
     },
     "execution_count": 44,
     "metadata": {},
     "output_type": "execute_result"
    }
   ],
   "source": [
    "next(ls) # for each execution the number in list changes untill there are no numbers left"
   ]
  },
  {
   "cell_type": "code",
   "execution_count": 45,
   "id": "2fad200f-c57d-451b-a219-27ae16498ebb",
   "metadata": {},
   "outputs": [
    {
     "name": "stdout",
     "output_type": "stream",
     "text": [
      "2\n",
      "3\n",
      "4\n",
      "5\n"
     ]
    }
   ],
   "source": [
    "for i in ls: # here we are not taking all the eliments of the list at a time but a single element at a time and storing this takes less storage\n",
    "    print(i)"
   ]
  },
  {
   "cell_type": "markdown",
   "id": "4e671072-6410-4787-ab76-07421af113b8",
   "metadata": {},
   "source": [
    "# Pyforest "
   ]
  },
  {
   "cell_type": "code",
   "execution_count": 1,
   "id": "002bb4ce-a8d1-4790-9126-2fc4ef78b0d3",
   "metadata": {},
   "outputs": [
    {
     "data": {
      "application/javascript": [
       "\n",
       "        if (window._pyforest_update_imports_cell) { window._pyforest_update_imports_cell('import pandas as pd'); }\n",
       "    "
      ],
      "text/plain": [
       "<IPython.core.display.Javascript object>"
      ]
     },
     "metadata": {},
     "output_type": "display_data"
    }
   ],
   "source": [
    "# pip install pyforest\n",
    "df=pd.read_csv('mercedesbenz.csv')"
   ]
  },
  {
   "cell_type": "code",
   "execution_count": 3,
   "id": "979a3adf-98de-4f8f-a9fb-a486e0a7e7fe",
   "metadata": {},
   "outputs": [
    {
     "data": {
      "text/html": [
       "<div>\n",
       "<style scoped>\n",
       "    .dataframe tbody tr th:only-of-type {\n",
       "        vertical-align: middle;\n",
       "    }\n",
       "\n",
       "    .dataframe tbody tr th {\n",
       "        vertical-align: top;\n",
       "    }\n",
       "\n",
       "    .dataframe thead th {\n",
       "        text-align: right;\n",
       "    }\n",
       "</style>\n",
       "<table border=\"1\" class=\"dataframe\">\n",
       "  <thead>\n",
       "    <tr style=\"text-align: right;\">\n",
       "      <th></th>\n",
       "      <th>ID</th>\n",
       "      <th>y</th>\n",
       "      <th>X0</th>\n",
       "      <th>X1</th>\n",
       "      <th>X2</th>\n",
       "      <th>X3</th>\n",
       "      <th>X4</th>\n",
       "      <th>X5</th>\n",
       "      <th>X6</th>\n",
       "      <th>X8</th>\n",
       "      <th>...</th>\n",
       "      <th>X375</th>\n",
       "      <th>X376</th>\n",
       "      <th>X377</th>\n",
       "      <th>X378</th>\n",
       "      <th>X379</th>\n",
       "      <th>X380</th>\n",
       "      <th>X382</th>\n",
       "      <th>X383</th>\n",
       "      <th>X384</th>\n",
       "      <th>X385</th>\n",
       "    </tr>\n",
       "  </thead>\n",
       "  <tbody>\n",
       "    <tr>\n",
       "      <th>0</th>\n",
       "      <td>0</td>\n",
       "      <td>130.81</td>\n",
       "      <td>k</td>\n",
       "      <td>v</td>\n",
       "      <td>at</td>\n",
       "      <td>a</td>\n",
       "      <td>d</td>\n",
       "      <td>u</td>\n",
       "      <td>j</td>\n",
       "      <td>o</td>\n",
       "      <td>...</td>\n",
       "      <td>0</td>\n",
       "      <td>0</td>\n",
       "      <td>1</td>\n",
       "      <td>0</td>\n",
       "      <td>0</td>\n",
       "      <td>0</td>\n",
       "      <td>0</td>\n",
       "      <td>0</td>\n",
       "      <td>0</td>\n",
       "      <td>0</td>\n",
       "    </tr>\n",
       "    <tr>\n",
       "      <th>1</th>\n",
       "      <td>6</td>\n",
       "      <td>88.53</td>\n",
       "      <td>k</td>\n",
       "      <td>t</td>\n",
       "      <td>av</td>\n",
       "      <td>e</td>\n",
       "      <td>d</td>\n",
       "      <td>y</td>\n",
       "      <td>l</td>\n",
       "      <td>o</td>\n",
       "      <td>...</td>\n",
       "      <td>1</td>\n",
       "      <td>0</td>\n",
       "      <td>0</td>\n",
       "      <td>0</td>\n",
       "      <td>0</td>\n",
       "      <td>0</td>\n",
       "      <td>0</td>\n",
       "      <td>0</td>\n",
       "      <td>0</td>\n",
       "      <td>0</td>\n",
       "    </tr>\n",
       "    <tr>\n",
       "      <th>2</th>\n",
       "      <td>7</td>\n",
       "      <td>76.26</td>\n",
       "      <td>az</td>\n",
       "      <td>w</td>\n",
       "      <td>n</td>\n",
       "      <td>c</td>\n",
       "      <td>d</td>\n",
       "      <td>x</td>\n",
       "      <td>j</td>\n",
       "      <td>x</td>\n",
       "      <td>...</td>\n",
       "      <td>0</td>\n",
       "      <td>0</td>\n",
       "      <td>0</td>\n",
       "      <td>0</td>\n",
       "      <td>0</td>\n",
       "      <td>0</td>\n",
       "      <td>1</td>\n",
       "      <td>0</td>\n",
       "      <td>0</td>\n",
       "      <td>0</td>\n",
       "    </tr>\n",
       "    <tr>\n",
       "      <th>3</th>\n",
       "      <td>9</td>\n",
       "      <td>80.62</td>\n",
       "      <td>az</td>\n",
       "      <td>t</td>\n",
       "      <td>n</td>\n",
       "      <td>f</td>\n",
       "      <td>d</td>\n",
       "      <td>x</td>\n",
       "      <td>l</td>\n",
       "      <td>e</td>\n",
       "      <td>...</td>\n",
       "      <td>0</td>\n",
       "      <td>0</td>\n",
       "      <td>0</td>\n",
       "      <td>0</td>\n",
       "      <td>0</td>\n",
       "      <td>0</td>\n",
       "      <td>0</td>\n",
       "      <td>0</td>\n",
       "      <td>0</td>\n",
       "      <td>0</td>\n",
       "    </tr>\n",
       "    <tr>\n",
       "      <th>4</th>\n",
       "      <td>13</td>\n",
       "      <td>78.02</td>\n",
       "      <td>az</td>\n",
       "      <td>v</td>\n",
       "      <td>n</td>\n",
       "      <td>f</td>\n",
       "      <td>d</td>\n",
       "      <td>h</td>\n",
       "      <td>d</td>\n",
       "      <td>n</td>\n",
       "      <td>...</td>\n",
       "      <td>0</td>\n",
       "      <td>0</td>\n",
       "      <td>0</td>\n",
       "      <td>0</td>\n",
       "      <td>0</td>\n",
       "      <td>0</td>\n",
       "      <td>0</td>\n",
       "      <td>0</td>\n",
       "      <td>0</td>\n",
       "      <td>0</td>\n",
       "    </tr>\n",
       "  </tbody>\n",
       "</table>\n",
       "<p>5 rows × 378 columns</p>\n",
       "</div>"
      ],
      "text/plain": [
       "   ID       y  X0 X1  X2 X3 X4 X5 X6 X8  ...  X375  X376  X377  X378  X379  \\\n",
       "0   0  130.81   k  v  at  a  d  u  j  o  ...     0     0     1     0     0   \n",
       "1   6   88.53   k  t  av  e  d  y  l  o  ...     1     0     0     0     0   \n",
       "2   7   76.26  az  w   n  c  d  x  j  x  ...     0     0     0     0     0   \n",
       "3   9   80.62  az  t   n  f  d  x  l  e  ...     0     0     0     0     0   \n",
       "4  13   78.02  az  v   n  f  d  h  d  n  ...     0     0     0     0     0   \n",
       "\n",
       "   X380  X382  X383  X384  X385  \n",
       "0     0     0     0     0     0  \n",
       "1     0     0     0     0     0  \n",
       "2     0     1     0     0     0  \n",
       "3     0     0     0     0     0  \n",
       "4     0     0     0     0     0  \n",
       "\n",
       "[5 rows x 378 columns]"
      ]
     },
     "execution_count": 3,
     "metadata": {},
     "output_type": "execute_result"
    }
   ],
   "source": [
    "df.head()"
   ]
  },
  {
   "cell_type": "markdown",
   "id": "2d2b944d-680c-4f1e-9f3c-d413a05c33a5",
   "metadata": {},
   "source": [
    "# OOPS Tutorial in Python"
   ]
  },
  {
   "cell_type": "markdown",
   "id": "03141750-12d9-4680-b644-44df5752350e",
   "metadata": {},
   "source": [
    "## Class"
   ]
  },
  {
   "cell_type": "code",
   "execution_count": 19,
   "id": "e919b01e-c682-4353-b1c9-4492e37c61db",
   "metadata": {},
   "outputs": [],
   "source": [
    "class car():\n",
    "    def __init__(self,brand,doors,fuel):\n",
    "        self.brand=brand\n",
    "        self.doors=doors\n",
    "        self.fuel=fuel\n",
    "    def intro(self):\n",
    "        return 'This is a {} car'.format(self.brand) # when using self it is almost similar to assigning a Global Variable "
   ]
  },
  {
   "cell_type": "code",
   "execution_count": 20,
   "id": "1bd70268-d19b-4b3f-b07f-2476dec9501d",
   "metadata": {},
   "outputs": [],
   "source": [
    "car1=car('BMW',2,'Petrol')"
   ]
  },
  {
   "cell_type": "code",
   "execution_count": 21,
   "id": "bf0b5388-fd88-4234-9f4c-955fded7f613",
   "metadata": {},
   "outputs": [
    {
     "name": "stdout",
     "output_type": "stream",
     "text": [
      "BMW\n"
     ]
    }
   ],
   "source": [
    "print(car1.brand)"
   ]
  },
  {
   "cell_type": "code",
   "execution_count": 22,
   "id": "4016ea93-2dac-442b-875b-b6b7eb967eef",
   "metadata": {},
   "outputs": [
    {
     "data": {
      "text/plain": [
       "'This is a BMW car'"
      ]
     },
     "execution_count": 22,
     "metadata": {},
     "output_type": "execute_result"
    }
   ],
   "source": [
    "car1.intro()"
   ]
  },
  {
   "cell_type": "markdown",
   "id": "38a6f0ea-e1de-4b27-affd-54ddb1eee2df",
   "metadata": {},
   "source": [
    "## Exceptional Handeling"
   ]
  },
  {
   "cell_type": "code",
   "execution_count": 27,
   "id": "24111974-2329-47dc-8a8a-28f3ce4fc7ae",
   "metadata": {},
   "outputs": [
    {
     "ename": "ZeroDivisionError",
     "evalue": "division by zero",
     "output_type": "error",
     "traceback": [
      "\u001b[1;31m---------------------------------------------------------------------------\u001b[0m",
      "\u001b[1;31mZeroDivisionError\u001b[0m                         Traceback (most recent call last)",
      "Cell \u001b[1;32mIn[27], line 1\u001b[0m\n\u001b[1;32m----> 1\u001b[0m a\u001b[38;5;241m=\u001b[39m\u001b[38;5;241m20\u001b[39m\u001b[38;5;241m/\u001b[39m\u001b[38;5;241m0\u001b[39m\n",
      "\u001b[1;31mZeroDivisionError\u001b[0m: division by zero"
     ]
    }
   ],
   "source": [
    "a=20/0"
   ]
  },
  {
   "cell_type": "code",
   "execution_count": 24,
   "id": "875313b4-b398-46ea-b769-1bef41bfbccb",
   "metadata": {},
   "outputs": [
    {
     "name": "stdout",
     "output_type": "stream",
     "text": [
      " we cannot devide by zero\n"
     ]
    }
   ],
   "source": [
    "try:\n",
    "    a=20/0\n",
    "except:\n",
    "    print(' we cannot devide by zero')"
   ]
  },
  {
   "cell_type": "code",
   "execution_count": 29,
   "id": "6743e560-3078-45ca-91af-7c06395fa0e0",
   "metadata": {},
   "outputs": [
    {
     "name": "stdin",
     "output_type": "stream",
     "text": [
      "give the first number : 12\n",
      "give the second number : 0\n"
     ]
    },
    {
     "name": "stdout",
     "output_type": "stream",
     "text": [
      "give number grater than zero\n",
      "execution completed\n"
     ]
    }
   ],
   "source": [
    "try:\n",
    "    a=int(input('give the first number :'))\n",
    "    b=int(input('give the second number :'))\n",
    "    c=a/b\n",
    "except ZeroDivisionError:\n",
    "    print('give number grater than zero')\n",
    "except Exception as ex:\n",
    "    print(ex)\n",
    "else:\n",
    "    print(c)\n",
    "finally:\n",
    "    print('execution completed')"
   ]
  },
  {
   "cell_type": "markdown",
   "id": "5a9b3a08-13b9-4b4b-b006-835bc064e12d",
   "metadata": {},
   "source": [
    "### Custom Exception"
   ]
  },
  {
   "cell_type": "code",
   "execution_count": 30,
   "id": "43df69f9-34aa-4994-a1e1-18e0bad2accf",
   "metadata": {},
   "outputs": [],
   "source": [
    "class Error(Exception):\n",
    "    pass\n",
    "class Chldmrg(Error):\n",
    "    pass"
   ]
  },
  {
   "cell_type": "code",
   "execution_count": 33,
   "id": "f8cb5a29-3b66-4e9e-b5bf-6e8ac0c4a664",
   "metadata": {},
   "outputs": [
    {
     "name": "stdin",
     "output_type": "stream",
     "text": [
      "enter your age  20\n",
      "enter your child age 3\n"
     ]
    },
    {
     "name": "stdout",
     "output_type": "stream",
     "text": [
      "You were not of concent age when married\n"
     ]
    }
   ],
   "source": [
    "a=int(input('enter your age '))\n",
    "b=int(input('enter your child age'))\n",
    "try:\n",
    "    if (a-b) > 18:\n",
    "        print('you are of concent age when married')\n",
    "    else:\n",
    "        raise Chldmrg # raise is actually use to say that there is an exception as we are using custom exception here we need to specify\n",
    "except Chldmrg:\n",
    "    print ('You were not of concent age when married')"
   ]
  },
  {
   "cell_type": "markdown",
   "id": "b75f4fc6-3b19-4367-af33-1e7c7231dc4d",
   "metadata": {},
   "source": [
    "## Python OOPS public , protected and private varible\n",
    "\n",
    "in python there is no restriction we can change even private var but we are able to know as a developer that , that perticular var is public protected or privant use dir(var)"
   ]
  },
  {
   "cell_type": "code",
   "execution_count": 2,
   "id": "808f9530-8170-471f-866c-2cf85b42a34a",
   "metadata": {},
   "outputs": [],
   "source": [
    "# here all the class variables are public\n",
    "class car():\n",
    "    def __init__(self,brand,doors,fuel):\n",
    "        self.brand=brand\n",
    "        self.doors=doors\n",
    "        self.fuel=fuel"
   ]
  },
  {
   "cell_type": "code",
   "execution_count": 3,
   "id": "f9f29cd2-ff60-47ab-aaf2-8b9b25d796bc",
   "metadata": {},
   "outputs": [],
   "source": [
    "car1=car('Bmw',2,'P')"
   ]
  },
  {
   "cell_type": "code",
   "execution_count": 6,
   "id": "6426eb16-b1f8-4f5e-beec-2ef035c6c6cc",
   "metadata": {},
   "outputs": [
    {
     "data": {
      "text/plain": [
       "'Bmw'"
      ]
     },
     "execution_count": 6,
     "metadata": {},
     "output_type": "execute_result"
    }
   ],
   "source": [
    "car1.brand"
   ]
  },
  {
   "cell_type": "code",
   "execution_count": 7,
   "id": "d85916c2-167f-4755-9d29-f07ec6bd0e48",
   "metadata": {},
   "outputs": [],
   "source": [
    "car1.brand='Audi' # as it is a public var we can change or overwrite the var anywhere "
   ]
  },
  {
   "cell_type": "code",
   "execution_count": 8,
   "id": "acd05623-ba24-456b-9fde-186dbfc0b202",
   "metadata": {},
   "outputs": [
    {
     "data": {
      "text/plain": [
       "'Audi'"
      ]
     },
     "execution_count": 8,
     "metadata": {},
     "output_type": "execute_result"
    }
   ],
   "source": [
    "car1.brand"
   ]
  },
  {
   "cell_type": "markdown",
   "id": "2d6355c0-af39-4219-9869-0764942ef732",
   "metadata": {},
   "source": [
    "### Protected var , Here we also used inheritance \n",
    "\n",
    "here the protected var can also be accessed anywhere but the only ristriction is that the over written part can only be done by its sub class "
   ]
  },
  {
   "cell_type": "code",
   "execution_count": 1,
   "id": "3f559c15-ea9c-48a2-86fe-0833ebdf997d",
   "metadata": {},
   "outputs": [],
   "source": [
    "# here all the class variables are protected\n",
    "class car():\n",
    "    def __init__(self,brand,doors,fuel):\n",
    "        self._brand=brand   # we just need to add a _ before the var name to make it a protected var   \n",
    "        self._doors=doors   # we just need to add a _ before the var name to make it a protected var \n",
    "        self._fuel=fuel     # we just need to add a _ before the var name to make it a protected var "
   ]
  },
  {
   "cell_type": "code",
   "execution_count": 25,
   "id": "270dc68c-8986-4ce4-b5c0-7958ba3b2fa3",
   "metadata": {},
   "outputs": [],
   "source": [
    "class truck(car): # this is a sample of inheritance as we can use all the properties of car over here as well \n",
    "    def __init__(self,brand,doors,fuel,hopr):\n",
    "        super().__init__(brand,doors,fuel) # super meaning from my superset aka parent class copy the followying\n",
    "        self.hopr=hopr"
   ]
  },
  {
   "cell_type": "code",
   "execution_count": 26,
   "id": "82e8b67c-92d6-4008-9ec6-6ad6ce4743e5",
   "metadata": {},
   "outputs": [],
   "source": [
    "# let us create a new class without inheritance and try to change / over write the protected var\n",
    "def new(a):\n",
    "    a=car.brand"
   ]
  },
  {
   "cell_type": "code",
   "execution_count": 27,
   "id": "7ec77265-966c-445d-a0b2-6050b7194dbe",
   "metadata": {},
   "outputs": [],
   "source": [
    "truck1=truck('audi',2025,'P',12000)"
   ]
  },
  {
   "cell_type": "code",
   "execution_count": 28,
   "id": "b833763b-63dd-422c-8093-93c52b4be989",
   "metadata": {},
   "outputs": [
    {
     "data": {
      "text/plain": [
       "12000"
      ]
     },
     "execution_count": 28,
     "metadata": {},
     "output_type": "execute_result"
    }
   ],
   "source": [
    "truck1.hopr"
   ]
  },
  {
   "cell_type": "code",
   "execution_count": 29,
   "id": "84fb48af-edae-49bd-8ccc-abb6223fdf9e",
   "metadata": {},
   "outputs": [],
   "source": [
    "truck1.doors=5"
   ]
  },
  {
   "cell_type": "code",
   "execution_count": 30,
   "id": "9839fc75-f0fc-4620-82ea-6336a84ecf14",
   "metadata": {},
   "outputs": [
    {
     "data": {
      "text/plain": [
       "5"
      ]
     },
     "execution_count": 30,
     "metadata": {},
     "output_type": "execute_result"
    }
   ],
   "source": [
    "truck1.doors"
   ]
  },
  {
   "cell_type": "markdown",
   "id": "73b89ba4-0725-4fe6-bdfb-b6e46e67735d",
   "metadata": {},
   "source": [
    "### Now private var \n",
    "\n",
    "this cannot be acced by any sub class or anything "
   ]
  },
  {
   "cell_type": "code",
   "execution_count": 31,
   "id": "08614252-b4cc-4980-820f-517e6f549dbf",
   "metadata": {},
   "outputs": [],
   "source": [
    "# here all the class variables are protected\n",
    "class car():\n",
    "    def __init__(self,brand,doors,fuel):\n",
    "        self.__brand=brand   # we just need to add a __ before the var name to make it a private var   \n",
    "        self.__doors=doors   # we just need to add a __ before the var name to make it a private var \n",
    "        self.__fuel=fuel     # we just need to add a __ before the var name to make it a private var "
   ]
  },
  {
   "cell_type": "code",
   "execution_count": 32,
   "id": "d1ad62fc-d6d8-49b6-9772-92915f824c9f",
   "metadata": {},
   "outputs": [],
   "source": [
    "na=car('bmw',4,'P')"
   ]
  },
  {
   "cell_type": "code",
   "execution_count": 33,
   "id": "d9285de5-58b0-45c3-a844-64449189ff28",
   "metadata": {},
   "outputs": [
    {
     "data": {
      "text/plain": [
       "['__class__',\n",
       " '__delattr__',\n",
       " '__dict__',\n",
       " '__dir__',\n",
       " '__doc__',\n",
       " '__eq__',\n",
       " '__firstlineno__',\n",
       " '__format__',\n",
       " '__ge__',\n",
       " '__getattribute__',\n",
       " '__getstate__',\n",
       " '__gt__',\n",
       " '__hash__',\n",
       " '__init__',\n",
       " '__init_subclass__',\n",
       " '__le__',\n",
       " '__lt__',\n",
       " '__module__',\n",
       " '__ne__',\n",
       " '__new__',\n",
       " '__reduce__',\n",
       " '__reduce_ex__',\n",
       " '__repr__',\n",
       " '__setattr__',\n",
       " '__sizeof__',\n",
       " '__static_attributes__',\n",
       " '__str__',\n",
       " '__subclasshook__',\n",
       " '__weakref__',\n",
       " '_car__brand',\n",
       " '_car__doors',\n",
       " '_car__fuel']"
      ]
     },
     "execution_count": 33,
     "metadata": {},
     "output_type": "execute_result"
    }
   ],
   "source": [
    "dir(na)"
   ]
  },
  {
   "cell_type": "code",
   "execution_count": 34,
   "id": "a74d02e3-b13b-43a5-a061-0399098291a6",
   "metadata": {},
   "outputs": [
    {
     "data": {
      "text/plain": [
       "'bmw'"
      ]
     },
     "execution_count": 34,
     "metadata": {},
     "output_type": "execute_result"
    }
   ],
   "source": [
    "# in above we can see that the var are like _car__brand and etc , with that we can easily know weather it is a public , private or protected var \n",
    "na._car__brand #this is how we can see the output "
   ]
  },
  {
   "cell_type": "code",
   "execution_count": 35,
   "id": "24f70ef3-7fdc-4adb-a59c-cae7f0d78806",
   "metadata": {},
   "outputs": [
    {
     "data": {
      "text/plain": [
       "'audi'"
      ]
     },
     "execution_count": 35,
     "metadata": {},
     "output_type": "execute_result"
    }
   ],
   "source": [
    "na._car__brand='audi' # as this is python it is not restricted so we can even change it if we want to but as a dev we should know better \n",
    "na._car__brand"
   ]
  },
  {
   "cell_type": "code",
   "execution_count": null,
   "id": "ad977157-882f-4064-9a93-0457206dd663",
   "metadata": {},
   "outputs": [],
   "source": [
    "5"
   ]
  }
 ],
 "metadata": {
  "kernelspec": {
   "display_name": "Python 3 (ipykernel)",
   "language": "python",
   "name": "python3"
  },
  "language_info": {
   "codemirror_mode": {
    "name": "ipython",
    "version": 3
   },
   "file_extension": ".py",
   "mimetype": "text/x-python",
   "name": "python",
   "nbconvert_exporter": "python",
   "pygments_lexer": "ipython3",
   "version": "3.13.5"
  }
 },
 "nbformat": 4,
 "nbformat_minor": 5
}
